{
 "cells": [
  {
   "cell_type": "code",
   "execution_count": 1,
   "id": "0cda12d2",
   "metadata": {},
   "outputs": [
    {
     "name": "stdout",
     "output_type": "stream",
     "text": [
      "Requirement already satisfied: paho-mqtt in /Users/sarahribeiro/anaconda3/lib/python3.11/site-packages (1.6.1)\r\n"
     ]
    }
   ],
   "source": [
    "!pip install paho-mqtt"
   ]
  },
  {
   "cell_type": "code",
   "execution_count": 2,
   "id": "88d40e69",
   "metadata": {},
   "outputs": [
    {
     "name": "stdout",
     "output_type": "stream",
     "text": [
      "Connected with result code 0\n",
      "/TEF/lamp108/attrs/l b'51.0\\x00'\n",
      "/TEF/lamp108/attrs/l b'49.0\\x00'\n",
      "/TEF/lamp108/attrs/l b'51.0\\x00'\n",
      "/TEF/lamp108/attrs/l b'55.0\\x00'\n",
      "/TEF/lamp108/attrs/l b'53.0\\x00'\n",
      "/TEF/lamp108/attrs/l b'51.0\\x00'\n",
      "/TEF/lamp108/attrs/l b'50.0\\x00'\n",
      "/TEF/lamp108/attrs/l b'54.0\\x00'\n",
      "/TEF/lamp108/attrs/l b'55.0\\x00'\n",
      "/TEF/lamp108/attrs/l b'51.0\\x00'\n",
      "/TEF/lamp108/attrs/l b'53.0\\x00'\n",
      "/TEF/lamp108/attrs/l b'56.0\\x00'\n",
      "/TEF/lamp108/attrs/l b'51.0\\x00'\n",
      "/TEF/lamp108/attrs/l b'52.0\\x00'\n",
      "/TEF/lamp108/attrs/l b'50.0\\x00'\n",
      "/TEF/lamp108/attrs/l b'52.0\\x00'\n",
      "/TEF/lamp108/attrs/l b'50.0\\x00'\n",
      "/TEF/lamp108/attrs/l b'54.0\\x00'\n",
      "/TEF/lamp108/attrs/l b'52.00'\n",
      "/TEF/lamp108/attrs/l b'51.0\\x00'\n",
      "/TEF/lamp108/attrs/l b'52.0\\x00'\n",
      "/TEF/lamp108/attrs/l b'53.0\\x00'\n",
      "/TEF/lamp108/attrs/l b'57.0\\x00'\n",
      "/TEF/lamp108/attrs/l b'60.0\\x00'\n",
      "/TEF/lamp108/attrs/l b'56.0\\x00'\n",
      "/TEF/lamp108/attrs/l b'59.0\\x00'\n",
      "/TEF/lamp108/attrs/l b'61.0\\x00'\n",
      "/TEF/lamp108/attrs/l b'58.00'\n",
      "/TEF/lamp108/attrs/l b'53.0\\x00'\n",
      "/TEF/lamp108/attrs/l b'57.0\\x00'\n",
      "/TEF/lamp108/attrs/l b'53.0\\x00'\n",
      "/TEF/lamp108/attrs/l b'52.0\\x00'\n",
      "/TEF/lamp108/attrs/l b'54.0\\x00'\n",
      "/TEF/lamp108/attrs/l b'58.0\\x00'\n",
      "/TEF/lamp108/attrs/l b'52.0\\x00'\n",
      "/TEF/lamp108/attrs/l b'48.0\\x00'\n",
      "/TEF/lamp108/attrs/l b'43.0\\x00'\n",
      "/TEF/lamp108/attrs/l b'41.0\\x00'\n",
      "/TEF/lamp108/attrs/l b'37.0\\x00'\n",
      "/TEF/lamp108/attrs/l b'37.0\\x00'\n",
      "/TEF/lamp108/attrs/l b'43.0\\x00'\n",
      "/TEF/lamp108/attrs/l b'47.0\\x00'\n",
      "/TEF/lamp108/attrs/l b'51.0\\x00'\n",
      "/TEF/lamp108/attrs/l b'53.0\\x00'\n"
     ]
    },
    {
     "ename": "KeyboardInterrupt",
     "evalue": "",
     "output_type": "error",
     "traceback": [
      "\u001b[0;31m---------------------------------------------------------------------------\u001b[0m",
      "\u001b[0;31mKeyboardInterrupt\u001b[0m                         Traceback (most recent call last)",
      "Cell \u001b[0;32mIn[2], line 25\u001b[0m\n\u001b[1;32m     19\u001b[0m client\u001b[38;5;241m.\u001b[39mconnect(\u001b[38;5;124m\"\u001b[39m\u001b[38;5;124m46.17.108.113\u001b[39m\u001b[38;5;124m\"\u001b[39m, \u001b[38;5;241m1883\u001b[39m, \u001b[38;5;241m60\u001b[39m)\n\u001b[1;32m     21\u001b[0m \u001b[38;5;66;03m# Blocking call that processes network traffic, dispatches callbacks and\u001b[39;00m\n\u001b[1;32m     22\u001b[0m \u001b[38;5;66;03m# handles reconnecting.\u001b[39;00m\n\u001b[1;32m     23\u001b[0m \u001b[38;5;66;03m# Other loop*() functions are available that give a threaded interface and a\u001b[39;00m\n\u001b[1;32m     24\u001b[0m \u001b[38;5;66;03m# manual interface.\u001b[39;00m\n\u001b[0;32m---> 25\u001b[0m client\u001b[38;5;241m.\u001b[39mloop_forever()\n",
      "File \u001b[0;32m~/anaconda3/lib/python3.11/site-packages/paho/mqtt/client.py:1756\u001b[0m, in \u001b[0;36mClient.loop_forever\u001b[0;34m(self, timeout, max_packets, retry_first_connection)\u001b[0m\n\u001b[1;32m   1754\u001b[0m rc \u001b[38;5;241m=\u001b[39m MQTT_ERR_SUCCESS\n\u001b[1;32m   1755\u001b[0m \u001b[38;5;28;01mwhile\u001b[39;00m rc \u001b[38;5;241m==\u001b[39m MQTT_ERR_SUCCESS:\n\u001b[0;32m-> 1756\u001b[0m     rc \u001b[38;5;241m=\u001b[39m \u001b[38;5;28mself\u001b[39m\u001b[38;5;241m.\u001b[39m_loop(timeout)\n\u001b[1;32m   1757\u001b[0m     \u001b[38;5;66;03m# We don't need to worry about locking here, because we've\u001b[39;00m\n\u001b[1;32m   1758\u001b[0m     \u001b[38;5;66;03m# either called loop_forever() when in single threaded mode, or\u001b[39;00m\n\u001b[1;32m   1759\u001b[0m     \u001b[38;5;66;03m# in multi threaded mode when loop_stop() has been called and\u001b[39;00m\n\u001b[1;32m   1760\u001b[0m     \u001b[38;5;66;03m# so no other threads can access _out_packet or _messages.\u001b[39;00m\n\u001b[1;32m   1761\u001b[0m     \u001b[38;5;28;01mif\u001b[39;00m (\u001b[38;5;28mself\u001b[39m\u001b[38;5;241m.\u001b[39m_thread_terminate \u001b[38;5;129;01mis\u001b[39;00m \u001b[38;5;28;01mTrue\u001b[39;00m\n\u001b[1;32m   1762\u001b[0m         \u001b[38;5;129;01mand\u001b[39;00m \u001b[38;5;28mlen\u001b[39m(\u001b[38;5;28mself\u001b[39m\u001b[38;5;241m.\u001b[39m_out_packet) \u001b[38;5;241m==\u001b[39m \u001b[38;5;241m0\u001b[39m\n\u001b[1;32m   1763\u001b[0m             \u001b[38;5;129;01mand\u001b[39;00m \u001b[38;5;28mlen\u001b[39m(\u001b[38;5;28mself\u001b[39m\u001b[38;5;241m.\u001b[39m_out_messages) \u001b[38;5;241m==\u001b[39m \u001b[38;5;241m0\u001b[39m):\n",
      "File \u001b[0;32m~/anaconda3/lib/python3.11/site-packages/paho/mqtt/client.py:1150\u001b[0m, in \u001b[0;36mClient._loop\u001b[0;34m(self, timeout)\u001b[0m\n\u001b[1;32m   1147\u001b[0m     rlist \u001b[38;5;241m=\u001b[39m [\u001b[38;5;28mself\u001b[39m\u001b[38;5;241m.\u001b[39m_sock, \u001b[38;5;28mself\u001b[39m\u001b[38;5;241m.\u001b[39m_sockpairR]\n\u001b[1;32m   1149\u001b[0m \u001b[38;5;28;01mtry\u001b[39;00m:\n\u001b[0;32m-> 1150\u001b[0m     socklist \u001b[38;5;241m=\u001b[39m select\u001b[38;5;241m.\u001b[39mselect(rlist, wlist, [], timeout)\n\u001b[1;32m   1151\u001b[0m \u001b[38;5;28;01mexcept\u001b[39;00m \u001b[38;5;167;01mTypeError\u001b[39;00m:\n\u001b[1;32m   1152\u001b[0m     \u001b[38;5;66;03m# Socket isn't correct type, in likelihood connection is lost\u001b[39;00m\n\u001b[1;32m   1153\u001b[0m     \u001b[38;5;28;01mreturn\u001b[39;00m MQTT_ERR_CONN_LOST\n",
      "\u001b[0;31mKeyboardInterrupt\u001b[0m: "
     ]
    }
   ],
   "source": [
    "import paho.mqtt.client as mqtt\n",
    "\n",
    "# The callback for when the client receives a CONNACK response from the server.\n",
    "def on_connect(client, userdata, flags, rc):\n",
    "    print(\"Connected with result code \"+str(rc))\n",
    "\n",
    "    # Subscribing in on_connect() means that if we lose the connection and\n",
    "    # reconnect then subscriptions will be renewed.\n",
    "    client.subscribe(\"/TEF/lamp108/attrs/l\")\n",
    "\n",
    "# The callback for when a PUBLISH message is received from the server.\n",
    "def on_message(client, userdata, msg):\n",
    "    print(msg.topic+\" \"+str(msg.payload))\n",
    "\n",
    "client = mqtt.Client()\n",
    "client.on_connect = on_connect\n",
    "client.on_message = on_message\n",
    "\n",
    "client.connect(\"46.17.108.113\", 1883, 60)\n",
    "\n",
    "# Blocking call that processes network traffic, dispatches callbacks and\n",
    "# handles reconnecting.\n",
    "# Other loop*() functions are available that give a threaded interface and a\n",
    "# manual interface.\n",
    "client.loop_forever()"
   ]
  },
  {
   "cell_type": "code",
   "execution_count": 7,
   "id": "e62b91c5",
   "metadata": {},
   "outputs": [
    {
     "data": {
      "text/plain": [
       "<paho.mqtt.client.MQTTMessageInfo at 0x1124d6bb0>"
      ]
     },
     "execution_count": 7,
     "metadata": {},
     "output_type": "execute_result"
    }
   ],
   "source": [
    "import paho.mqtt.client as mqtt\n",
    "\n",
    "client.connect(\"46.17.108.113\", 1883, 60)\n",
    "client.publish(\"/TEF/lamp108/cmd\",\"lamp108@on|\")"
   ]
  },
  {
   "cell_type": "code",
   "execution_count": 6,
   "id": "e2233809",
   "metadata": {},
   "outputs": [
    {
     "data": {
      "text/plain": [
       "<paho.mqtt.client.MQTTMessageInfo at 0x1135d06d0>"
      ]
     },
     "execution_count": 6,
     "metadata": {},
     "output_type": "execute_result"
    }
   ],
   "source": [
    "import paho.mqtt.client as mqtt\n",
    "\n",
    "client.connect(\"46.17.108.113\", 1883, 60)\n",
    "client.publish(\"/TEF/lamp108/cmd\",\"lamp108@off|\")"
   ]
  },
  {
   "cell_type": "code",
   "execution_count": null,
   "id": "381b3784",
   "metadata": {},
   "outputs": [],
   "source": []
  }
 ],
 "metadata": {
  "kernelspec": {
   "display_name": "Python 3 (ipykernel)",
   "language": "python",
   "name": "python3"
  },
  "language_info": {
   "codemirror_mode": {
    "name": "ipython",
    "version": 3
   },
   "file_extension": ".py",
   "mimetype": "text/x-python",
   "name": "python",
   "nbconvert_exporter": "python",
   "pygments_lexer": "ipython3",
   "version": "3.11.5"
  }
 },
 "nbformat": 4,
 "nbformat_minor": 5
}
